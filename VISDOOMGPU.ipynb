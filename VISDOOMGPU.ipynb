from google.colab import drive
import pandas as pd
import matplotlib.pyplot as plt
import glob
import os

# --- Google Drive Paths (Same as in your main code) ---
DRIVE_MODEL_DIR = "/content/drive/My Drive/ViZDoomModels"

# --- Mount Google Drive ---
drive_mounted = os.path.exists('/content/drive/My Drive')
if not drive_mounted:
    drive.mount('/content/drive')

# --- Function to Plot Metrics ---
def plot_metrics(df, metrics_to_plot, ylabel, title, save_as=None):
    plt.figure(figsize=(10, 5))

    # Plot each metric with a label for the legend
    for metric in metrics_to_plot:
        plt.plot(df['episode'], df[metric], label=metric)

    plt.xlabel('Episode')
    plt.ylabel(ylabel)
    plt.title(title)
    plt.legend()  # Show the legend to identify each metric
    plt.grid(True)

    if save_as:
        plt.savefig(save_as)

    plt.show()

# --- Search for metrics files ---
metrics_files = glob.glob(os.path.join(DRIVE_MODEL_DIR, "*training_metrics.csv"))

if not metrics_files:
    print("No training metrics files found in the specified directory.")
else:
    all_dfs = []  # List to store DataFrames from each CSV

    for metrics_file in metrics_files:
        print(f"Processing: {metrics_file}")
        df = pd.read_csv(metrics_file)
        all_dfs.append(df)

    # --- Concatenate all DataFrames into a single DataFrame ---
    combined_df = pd.concat(all_dfs, ignore_index=True)

    # --- Aggregate data if needed ---
    # Calculate the mean of each metric for each episode across all files
    combined_df = combined_df.groupby('episode').mean().reset_index()

    # --- Create plots using the combined DataFrame ---
    # 1. Reward per Episode
    plot_metrics(combined_df, ['reward'], 'Reward', 'Reward per Episode', os.path.join(DRIVE_MODEL_DIR, 'combined_reward_plot.png'))

    # 2. Steps per Episode
    plot_metrics(combined_df, ['steps'], 'Steps', 'Steps per Episode', os.path.join(DRIVE_MODEL_DIR, 'combined_steps_plot.png'))

    # 3. Epsilon Decay
    plot_metrics(combined_df, ['epsilon'], 'Epsilon', 'Epsilon Decay', os.path.join(DRIVE_MODEL_DIR, 'combined_epsilon_plot.png'))

    # 4. Survival Time per Episode
    plot_metrics(combined_df, ['survival_time'], 'Survival Time (s)', 'Survival Time per Episode', os.path.join(DRIVE_MODEL_DIR, 'combined_survival_time_plot.png'))

    # 5. Damage Taken and Inflicted per Episode
    plot_metrics(combined_df, ['damage_taken', 'damage_inflicted'], 'Damage', 'Damage Taken and Inflicted per Episode', os.path.join(DRIVE_MODEL_DIR, 'combined_damage_plot.png'))

    # 6. RAM and GPU Memory Usage
    plot_metrics(combined_df, ['ram_usage', 'gpu_memory_usage'], 'Memory Usage (MB)', 'RAM and GPU Memory Usage', os.path.join(DRIVE_MODEL_DIR, 'combined_memory_usage_plot.png'))

    # 7. Training Time
    plt.figure(figsize=(10, 5))
    plt.plot(combined_df['episode'], combined_df['training_time'], label='Training Time')
    plt.xlabel('Episode')
    plt.ylabel('Cumulative Training Time (s)')
    plt.title('Cumulative Training Time')
    plt.grid(True)
    plt.savefig(os.path.join(DRIVE_MODEL_DIR, 'combined_training_time_plot.png'))
    plt.show()
