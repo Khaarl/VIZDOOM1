{
  "nbformat": 4,
  "nbformat_minor": 0,
  "metadata": {
    "colab": {
      "provenance": [],
      "authorship_tag": "ABX9TyOtYANRohoWgksP+FAAV0lI",
      "include_colab_link": true
    },
    "kernelspec": {
      "name": "python3",
      "display_name": "Python 3"
    },
    "language_info": {
      "name": "python"
    }
  },
  "cells": [
    {
      "cell_type": "markdown",
      "metadata": {
        "id": "view-in-github",
        "colab_type": "text"
      },
      "source": [
        "<a href=\"https://colab.research.google.com/github/Khaarl/VIZDOOM1/blob/main/DummyTESTFILE.ipynb\" target=\"_parent\"><img src=\"https://colab.research.google.com/assets/colab-badge.svg\" alt=\"Open In Colab\"/></a>"
      ]
    },
    {
      "cell_type": "code",
      "execution_count": 3,
      "metadata": {
        "colab": {
          "base_uri": "https://localhost:8080/"
        },
        "id": "PVbuvjICtRMa",
        "outputId": "1429ec30-23a2-4e36-e01e-f80313b61189"
      },
      "outputs": [
        {
          "name": "stdout",
          "output_type": "stream",
          "text": [
            "Mounted at /content/drive\n",
            "Enter file name (e.g., 'test1.bin'): test1.bin\n",
            "Enter file size in MB (e.g., '200' or '200MB'): 200\n"
          ]
        },
        {
          "output_type": "stream",
          "name": "stderr",
          "text": [
            "Creating test1.bin: 100%|██████████| 210M/210M [00:01<00:00, 159MB/s]\n"
          ]
        },
        {
          "output_type": "stream",
          "name": "stdout",
          "text": [
            "\n",
            "Success! File created at: /content/drive/MyDrive/DummyTestFiles/test1.bin\n",
            "Size: 200.00 MB\n"
          ]
        }
      ],
      "source": [
        "# Install required packages\n",
        "from google.colab import drive\n",
        "import os\n",
        "import shutil\n",
        "from tqdm import tqdm\n",
        "\n",
        "def mount_drive():\n",
        "    \"\"\"Mount Google Drive and create test folder\"\"\"\n",
        "    drive.mount('/content/drive')\n",
        "    drive_folder = '/content/drive/MyDrive/DummyTestFiles'\n",
        "    os.makedirs(drive_folder, exist_ok=True)\n",
        "    return drive_folder\n",
        "\n",
        "def validate_filename(name):\n",
        "    \"\"\"Check if filename is valid\"\"\"\n",
        "    if not name:\n",
        "        raise ValueError(\"Filename cannot be empty\")\n",
        "    # Check for invalid characters\n",
        "    invalid_chars = set('/\\\\<>:\"|?*')\n",
        "    if any(char in invalid_chars for char in name):\n",
        "        raise ValueError(\"Filename contains invalid characters\")\n",
        "    if name.startswith('.') or name.endswith('.'):\n",
        "        raise ValueError(\"Filename cannot start or end with a dot\")\n",
        "    return name\n",
        "\n",
        "def parse_size(size_str):\n",
        "    \"\"\"Convert MB size to bytes (accepts numbers or 'XMB' format)\"\"\"\n",
        "    size_str = size_str.upper().replace('MB', '').strip()\n",
        "    try:\n",
        "        mb = float(size_str)\n",
        "        if mb <= 0:\n",
        "            raise ValueError(\"Size must be greater than 0\")\n",
        "        return int(mb * 1024**2)  # Convert MB to bytes\n",
        "    except ValueError:\n",
        "        raise ValueError(\"Invalid size format. Use numbers only (e.g., '200' or '200MB')\")\n",
        "\n",
        "def generate_dummy_file(full_path, target_bytes):\n",
        "    \"\"\"Generate dummy file with progress bar\"\"\"\n",
        "    # Check available space\n",
        "    dir_path = os.path.dirname(full_path) or '.'\n",
        "    total, used, free = shutil.disk_usage(dir_path)\n",
        "\n",
        "    if free < target_bytes:\n",
        "        raise ValueError(f\"Not enough space. Required: {target_bytes:,} bytes, Available: {free:,} bytes\")\n",
        "\n",
        "    # Generate file\n",
        "    chunk_size = 1024 * 1024  # 1MB chunks\n",
        "    with open(full_path, 'wb') as f:\n",
        "        with tqdm(total=target_bytes, unit='B', unit_scale=True,\n",
        "                 desc=f\"Creating {os.path.basename(full_path)}\") as pbar:\n",
        "            bytes_written = 0\n",
        "            while bytes_written < target_bytes:\n",
        "                chunk = min(chunk_size, target_bytes - bytes_written)\n",
        "                f.write(os.urandom(chunk))\n",
        "                bytes_written += chunk\n",
        "                pbar.update(chunk)\n",
        "\n",
        "    # Verify size\n",
        "    actual_size = os.path.getsize(full_path)\n",
        "    if actual_size != target_bytes:\n",
        "        os.remove(full_path)\n",
        "        raise RuntimeError(f\"Size mismatch. Requested: {target_bytes}, Actual: {actual_size}\")\n",
        "\n",
        "def main():\n",
        "    # Mount Drive and prepare folder\n",
        "    drive_folder = mount_drive()\n",
        "\n",
        "    # Get valid filename\n",
        "    while True:\n",
        "        try:\n",
        "            filename = input(\"Enter file name (e.g., 'test1.bin'): \").strip()\n",
        "            validate_filename(filename)\n",
        "            full_path = os.path.join(drive_folder, filename)\n",
        "            break\n",
        "        except ValueError as e:\n",
        "            print(f\"Invalid filename: {e}. Please try again.\")\n",
        "\n",
        "    # Get valid size\n",
        "    while True:\n",
        "        try:\n",
        "            size_input = input(\"Enter file size in MB (e.g., '200' or '200MB'): \").strip()\n",
        "            target_bytes = parse_size(size_input)\n",
        "            break\n",
        "        except ValueError as e:\n",
        "            print(f\"Invalid size: {e}. Please try again.\")\n",
        "\n",
        "    # Generate file\n",
        "    try:\n",
        "        generate_dummy_file(full_path, target_bytes)\n",
        "        print(f\"\\nSuccess! File created at: {full_path}\")\n",
        "        print(f\"Size: {os.path.getsize(full_path)/1024**2:.2f} MB\")\n",
        "    except Exception as e:\n",
        "        print(f\"\\nError: {e}\")\n",
        "        if os.path.exists(full_path):\n",
        "            os.remove(full_path)\n",
        "\n",
        "if __name__ == \"__main__\":\n",
        "    main()"
      ]
    }
  ]
}